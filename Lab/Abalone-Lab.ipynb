{
  "cells": [
    {
      "cell_type": "markdown",
      "metadata": {
        "id": "view-in-github",
        "colab_type": "text"
      },
      "source": [
        "<a href=\"https://colab.research.google.com/github/bruceMacLeod/COS475-575/blob/main/Lab/Abalone-Lab.ipynb\" target=\"_parent\"><img src=\"https://colab.research.google.com/assets/colab-badge.svg\" alt=\"Open In Colab\"/></a>"
      ]
    },
    {
      "cell_type": "markdown",
      "metadata": {
        "id": "80bCzpS4iCZm"
      },
      "source": [
        "<h1><center>Lab 9</center></h1>\n",
        "<h1><center>Neural Networks on Tabular Data</center></h1>\n",
        "\n",
        "Neural networks applied to tabular data are not usually the highest performing Machine Learning technique. Recent papers suggest tree based algorithms with boosting perform well (https://arxiv.org/abs/2110.01889, https://www.sciencedirect.com/science/article/abs/pii/S1566253521002360). Nonetheless, we will apply neural networks to the problem of predicting the age an abalone to develop our foundational deep learning skills.\n",
        "\n",
        "Goal : Predicting the age of abalone from physical measurements. The age of abalone is determined by cutting the shell through the cone, staining it, and counting the number of rings through a microscope -- a boring and time-consuming task. Other measurements, which are easier to obtain, are used to predict the age. \n",
        "Attribute Information:\n",
        "\n",
        "Given is the attribute name, attribute type, the measurement unit and a brief description. The number of rings is the value to predict: either as a continuous value or as a classification problem.\n",
        "\n",
        "Name / Data Type / Measurement Unit / Description\n",
        "\n",
        "- Sex / nominal / -- / M, F, and I (infant)\n",
        "- Length / continuous / mm / Longest shell measurement\n",
        "- Diameter / continuous / mm / perpendicular to length\n",
        "- Height / continuous / mm / with meat in shell\n",
        "- Whole weight / continuous / grams / whole abalone\n",
        "- Shucked weight / continuous / grams / weight of meat\n",
        "- Viscera weight / continuous / grams / gut weight (after bleeding)\n",
        "- Shell weight / continuous / grams / after being dried\n",
        "- Rings / integer / -- / +1.5 gives the age in years"
      ]
    },
    {
      "cell_type": "code",
      "execution_count": null,
      "metadata": {
        "id": "WMvX9MrbiCZq"
      },
      "outputs": [],
      "source": [
        "import pandas as pd\n",
        "import requests\n",
        "import io\n",
        "import os\n",
        "\n",
        "import matplotlib.pyplot as plt\n",
        "%matplotlib inline\n",
        "\n",
        "import seaborn as sns\n",
        "\n",
        "from sklearn.impute import SimpleImputer \n",
        "from sklearn.pipeline import Pipeline\n",
        "from sklearn.preprocessing import StandardScaler\n",
        "from sklearn.preprocessing import OrdinalEncoder\n",
        "from sklearn.preprocessing import OneHotEncoder\n",
        "from sklearn.compose import ColumnTransformer \n",
        "from pylab import cm\n",
        "\n",
        "from sklearn.model_selection import train_test_split\n",
        "from sklearn.linear_model import LinearRegression\n",
        "import sklearn.metrics as metrics\n",
        "from sklearn.metrics import mean_squared_error, mean_absolute_error\n",
        "import math\n",
        "\n",
        "import numpy as np\n",
        "\n",
        "\n",
        "import tensorflow as tf\n",
        "from tensorflow import keras\n",
        "print(tf.__version__)\n",
        "print(keras.__version__)\n",
        "\n",
        "from tensorflow.keras.layers import Dense, Dropout\n",
        "from tensorflow.keras.models import Sequential\n"
      ]
    },
    {
      "cell_type": "code",
      "execution_count": null,
      "metadata": {
        "id": "nVlqnjNdiCZr"
      },
      "outputs": [],
      "source": [
        "url = 'https://archive.ics.uci.edu/ml/machine-learning-databases/abalone/abalone.data'\n",
        "\n",
        "abalone_df = pd.read_csv(url, header=None)\n",
        "abalone_df.columns=['Sex','Length','Diameter','Height',\n",
        "                                             'Whole Weight','Shucked Weight',\n",
        "                                             'Viscera Weight','Shell Weight',\n",
        "                                             'Rings']"
      ]
    },
    {
      "cell_type": "code",
      "execution_count": null,
      "metadata": {
        "id": "hQaONds_iCZs"
      },
      "outputs": [],
      "source": [
        "abalone_df.head()"
      ]
    },
    {
      "cell_type": "markdown",
      "metadata": {
        "id": "XNBvFB5_iCZs"
      },
      "source": [
        "#### Data Cleaning \n"
      ]
    },
    {
      "cell_type": "code",
      "execution_count": null,
      "metadata": {
        "id": "XlBQBNvYiCZt"
      },
      "outputs": [],
      "source": [
        "abalone_df[abalone_df['Height']<=0]"
      ]
    },
    {
      "cell_type": "code",
      "execution_count": null,
      "metadata": {
        "id": "seZ2nxXUiCZt"
      },
      "outputs": [],
      "source": [
        "abalone_df = abalone_df[abalone_df['Height']>0]"
      ]
    },
    {
      "cell_type": "markdown",
      "metadata": {
        "id": "knKQXjk4iCZu"
      },
      "source": [
        "#### Setup train/test data "
      ]
    },
    {
      "cell_type": "code",
      "execution_count": null,
      "metadata": {
        "id": "j-D5Lxu-iCZu"
      },
      "outputs": [],
      "source": [
        "X = abalone_df.drop('Rings', axis=1)\n",
        "y = abalone_df.Rings + 1.5"
      ]
    },
    {
      "cell_type": "code",
      "execution_count": null,
      "metadata": {
        "id": "TUSqE0nRiCZv"
      },
      "outputs": [],
      "source": [
        "# set aside 20% of train and test data for evaluation\n",
        "X_train, X_test, y_train, y_test = train_test_split(X,y, test_size=0.2, shuffle = True, random_state = 42)\n"
      ]
    },
    {
      "cell_type": "markdown",
      "metadata": {
        "id": "6iHZIdUwiCZv"
      },
      "source": [
        "#### Normalize the data for analysis \n"
      ]
    },
    {
      "cell_type": "code",
      "execution_count": null,
      "metadata": {
        "id": "c93waIQFiCZv"
      },
      "outputs": [],
      "source": [
        "num_attribs = ['Length','Diameter','Height','Whole Weight','Shucked Weight','Viscera Weight','Shell Weight']\n",
        "cat_attribs = [\"Sex\"]"
      ]
    },
    {
      "cell_type": "code",
      "execution_count": null,
      "metadata": {
        "id": "Cb_dYI7viCZw"
      },
      "outputs": [],
      "source": [
        "num_pipeline = Pipeline([\n",
        "            ('imputer', SimpleImputer(strategy=\"median\")),\n",
        "            ('std_scaler', StandardScaler()),\n",
        "        ])"
      ]
    },
    {
      "cell_type": "code",
      "execution_count": null,
      "metadata": {
        "id": "VkI6wuO8iCZw"
      },
      "outputs": [],
      "source": [
        "full_pipeline = ColumnTransformer([\n",
        "             (\"num\", num_pipeline, num_attribs),\n",
        "             (\"cat\", OneHotEncoder(), cat_attribs),\n",
        "         ])\n",
        "abalone_train = full_pipeline.fit_transform(X_train)\n",
        "abalone_test = full_pipeline.transform(X_test)"
      ]
    },
    {
      "cell_type": "code",
      "execution_count": null,
      "metadata": {
        "id": "CSOLF5FQiCZw"
      },
      "outputs": [],
      "source": [
        "abalone_train.shape"
      ]
    },
    {
      "cell_type": "markdown",
      "metadata": {
        "id": "xsNFfte9iCZw"
      },
      "source": [
        "#### Linear regression model \n",
        "\n",
        "The mean absolute error indicates that our linear regression is off by approximately 1.6 "
      ]
    },
    {
      "cell_type": "code",
      "execution_count": null,
      "metadata": {
        "id": "Zy5ehnuqiCZx"
      },
      "outputs": [],
      "source": [
        "lin_reg = LinearRegression()\n",
        "lin_reg.fit(abalone_train, y_train)\n",
        "yp = lin_reg.predict(abalone_test)\n",
        "\n",
        "print(mean_absolute_error(y_test, yp))\n"
      ]
    },
    {
      "cell_type": "markdown",
      "metadata": {
        "id": "sfu5APtHiCZx"
      },
      "source": [
        "#### Exercise : Develop a neural network and test the performance using a validation set\n",
        "\n",
        "Steps : \n",
        "- Neural networks have a lot of hyperparameters, so we start by creating a validation set to compare our models. Let's keep 15% out of the training set. Note, that this immediately puts the neural network at a disadvantage by reducing the amount of data it has to do training. I do this step below\n",
        "\n",
        "- Use the code on Pg 308 of the book, develop a neural network and evaluate the performance using the validation set and the mean absolute error metric \n",
        "\n",
        "- Plot the training and validation loss\n",
        "\n",
        "- Experiment with adding layers and changing the size of the layers ... choose the best model \n",
        "\n",
        "- Complete your modeling by evaluating on the test dataset. Did you manage to beat the linear regression \n"
      ]
    },
    {
      "cell_type": "code",
      "execution_count": null,
      "metadata": {
        "id": "F9Ley14yiCZx"
      },
      "outputs": [],
      "source": [
        "X_train, X_val, y_train, y_val = train_test_split(X_train, y_train, test_size=0.15, random_state= 8) \n",
        "abalone_train = full_pipeline.transform(X_train)\n",
        "abalone_val = full_pipeline.transform(X_val)"
      ]
    },
    {
      "cell_type": "markdown",
      "metadata": {
        "id": "QlFfXtexiCZx"
      },
      "source": [
        "#### Graduate students/Extra Credit \n",
        "\n",
        "Add tensorboard visualization to help guide your neural network model building. See the section in the book starting on Pg 317"
      ]
    }
  ],
  "metadata": {
    "kernelspec": {
      "display_name": "Python 3",
      "language": "python",
      "name": "python3"
    },
    "language_info": {
      "codemirror_mode": {
        "name": "ipython",
        "version": 3
      },
      "file_extension": ".py",
      "mimetype": "text/x-python",
      "name": "python",
      "nbconvert_exporter": "python",
      "pygments_lexer": "ipython3",
      "version": "3.8.3"
    },
    "colab": {
      "name": "Abalone-Lab.ipynb",
      "provenance": [],
      "include_colab_link": true
    }
  },
  "nbformat": 4,
  "nbformat_minor": 0
}