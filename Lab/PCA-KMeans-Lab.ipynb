{
 "cells": [
  {
   "cell_type": "markdown",
   "metadata": {},
   "source": [
    "## Lab : Dimensionality reduction using PCA and K-Means \n",
    "\n",
    "We will use a wine dataset that is packaged into the scikit learn : \n",
    "https://scikit-learn.org/stable/modules/generated/sklearn.datasets.load_wine.html"
   ]
  },
  {
   "cell_type": "code",
   "execution_count": null,
   "metadata": {},
   "outputs": [],
   "source": [
    "import csv\n",
    "import urllib\n",
    "\n",
    "import pandas as pd \n",
    "\n",
    "from sklearn import preprocessing\n",
    "from sklearn.decomposition import PCA\n",
    "from sklearn.cluster import KMeans \n",
    "from sklearn.datasets import load_wine \n",
    "\n",
    "import matplotlib.pyplot as plt\n",
    "%matplotlib inline\n"
   ]
  },
  {
   "cell_type": "markdown",
   "metadata": {},
   "source": [
    "### Load the wine dataset into a Dataframe, create X, y variable"
   ]
  },
  {
   "cell_type": "code",
   "execution_count": null,
   "metadata": {},
   "outputs": [],
   "source": [
    "wines = load_wine()\n",
    "wine_df = pd.DataFrame(wines.data, columns=wines.feature_names)\n",
    "X = wines.data\n",
    "y = wines.target\n",
    "wine_df.shape"
   ]
  },
  {
   "cell_type": "code",
   "execution_count": null,
   "metadata": {},
   "outputs": [],
   "source": [
    "X = wines.data\n",
    "y = wines.target"
   ]
  },
  {
   "cell_type": "code",
   "execution_count": null,
   "metadata": {},
   "outputs": [],
   "source": [
    "print(X.shape, y.min(),y.max())"
   ]
  },
  {
   "cell_type": "code",
   "execution_count": null,
   "metadata": {},
   "outputs": [],
   "source": [
    "plt.hist(y)"
   ]
  },
  {
   "cell_type": "markdown",
   "metadata": {},
   "source": [
    "### PCA \n",
    "\n",
    "**Machine Learning task**:  Find a more compact representation of the key features of wine"
   ]
  },
  {
   "cell_type": "markdown",
   "metadata": {},
   "source": [
    "#### Exercise : \n",
    "\n",
    "1) Normalize the X data by subtracting mean and dividing by standard deviation : https://scikit-learn.org/stable/modules/generated/sklearn.preprocessing.StandardScaler.html\n",
    "\n",
    "2) Create a PCA model and apply it to the scaled X data. Assign the result to a variable named Z (I will use this variable in a plot below) Pg 222 in the book is relevant (but do not restrict it to just 2 Principal components)"
   ]
  },
  {
   "cell_type": "markdown",
   "metadata": {},
   "source": [
    "#### Exercise \n",
    "\n",
    "1) Display the contents of the explained_variance_ratio_ variable    What does this information tell you ?\n",
    "\n",
    "2) plot the explained_variance_ratio_    plt.plot(...)"
   ]
  },
  {
   "cell_type": "markdown",
   "metadata": {},
   "source": [
    "#### Exercise \n",
    "\n",
    "Provide a clear and succient explanation for the plot given below. Note, this plot depends on the result of PCA being assign to a variable named Z  "
   ]
  },
  {
   "cell_type": "code",
   "execution_count": null,
   "metadata": {},
   "outputs": [],
   "source": [
    "plt.figure(figsize=(10,8))\n",
    "colors = ('blue', 'red', 'green')\n",
    "\n",
    "for i in range(0,3):\n",
    "    plt.scatter(x=Z[:,0][y == i],y=Z[:,1][y == i],color=colors[i],alpha=0.7,label='class {}'.format(i))\n",
    "\n",
    "plt.xlabel('vector 1')\n",
    "plt.ylabel('vector 2')\n",
    "\n",
    "plt.legend()\n",
    "plt.title('Most significant singular vectors after linear transformation via PCA')\n",
    "\n",
    "plt.show()"
   ]
  },
  {
   "cell_type": "markdown",
   "metadata": {},
   "source": [
    "### K-Means\n",
    "\n",
    "**Machine Learning task** Group together similar instances of data "
   ]
  },
  {
   "cell_type": "markdown",
   "metadata": {},
   "source": [
    "#### Exercise : Figure out a good number of clusters \n",
    "\n",
    "We need to try a number of different clusters and measure the tightness of the clusters using the inertia_ variable. \n",
    "\n",
    "1) Initialize an empty array named inertia \n",
    "2) for i in range(1,11):\n",
    "    a) create a K-Means object with i clusters\n",
    "    b) fit the K-Means object to the scaled X data\n",
    "    c) append the inertia_ associated with the k-means fit to inertia array\n",
    "\n",
    "Plot inertia vs number of clusters. This is known as the elbow method. How many clusters should we select ? "
   ]
  },
  {
   "cell_type": "markdown",
   "metadata": {},
   "source": [
    "#### Exercise :  Calculate K-Means for the chosen number of clusters\n",
    "\n",
    "Call the method fit_predict on the scaled data and assign the result to a variable named y_pred. y_pred will have the cluster assignments."
   ]
  },
  {
   "cell_type": "markdown",
   "metadata": {},
   "source": [
    "#### Exercise :  Plot the results\n",
    "\n",
    "Unlike the book, we have many different columns of data, initially, it may not be clear how to plot these clusters in such a large multi-dimensional space. \n",
    "\n",
    "But, then, we remember that we have an alternative lower dimensional representation of our data using Principal components. Create a copy and alter the above scatterplot to display colors based on y_pred rather than the y variable from the scikit learn model. \n",
    "\n",
    "Why are the colors different ?"
   ]
  },
  {
   "cell_type": "markdown",
   "metadata": {},
   "source": [
    "### Extra Credit/Graduate students \n",
    "\n",
    "The “Wine” Dataset that is deposited on the UCI machine learning repository (https://archive.ics.uci.edu/ml/datasets/wine+quality). It has 11 variables and 1600 observations.Do a similar PCA and K-Means analysis on the data. Note that it has a different number of quality levels. In addition to providing the notebook, provide your thoughts on the differences in the two datasets.\n"
   ]
  }
 ],
 "metadata": {
  "kernelspec": {
   "display_name": "Python 3",
   "language": "python",
   "name": "python3"
  },
  "language_info": {
   "codemirror_mode": {
    "name": "ipython",
    "version": 3
   },
   "file_extension": ".py",
   "mimetype": "text/x-python",
   "name": "python",
   "nbconvert_exporter": "python",
   "pygments_lexer": "ipython3",
   "version": "3.8.5"
  }
 },
 "nbformat": 4,
 "nbformat_minor": 4
}
