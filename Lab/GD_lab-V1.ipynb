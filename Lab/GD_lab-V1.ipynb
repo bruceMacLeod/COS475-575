{
  "cells": [
    {
      "cell_type": "markdown",
      "metadata": {
        "id": "view-in-github",
        "colab_type": "text"
      },
      "source": [
        "<a href=\"https://colab.research.google.com/github/bruceMacLeod/COS475-575/blob/main/Lab/GD_lab-V1.ipynb\" target=\"_parent\"><img src=\"https://colab.research.google.com/assets/colab-badge.svg\" alt=\"Open In Colab\"/></a>"
      ]
    },
    {
      "cell_type": "markdown",
      "metadata": {
        "id": "LQi_uoe5rruC"
      },
      "source": [
        "\n",
        "# Gradient Descent Lab\n",
        "\n",
        "*  We implement our very own gradient descent algorithm to solve the task of predict median house values in Californian districts, given a number of features from these districts.\n",
        "* In this notebook, we strip out a lot of the data investigation work. In addition, we only consider a small subset of the columns\n",
        "* Read/run through the notebook and fund the exercises at the end\n"
      ]
    },
    {
      "cell_type": "markdown",
      "metadata": {
        "id": "7yl9TFgerruF"
      },
      "source": [
        "# Setup"
      ]
    },
    {
      "cell_type": "markdown",
      "metadata": {
        "id": "9jC5TyRerruG"
      },
      "source": [
        "First, let's import a few common modules, ensure MatplotLib plots figures inline and prepare a function to save the figures. We also check that Python 3.5 or later is installed (although Python 2.x may work, it is deprecated so we strongly recommend you use Python 3 instead), as well as Scikit-Learn ≥0.20."
      ]
    },
    {
      "cell_type": "code",
      "execution_count": null,
      "metadata": {
        "id": "Ic6x-1rxrruG"
      },
      "outputs": [],
      "source": [
        "# Python ≥3.5 is required\n",
        "import sys\n",
        "assert sys.version_info >= (3, 5)\n",
        "\n",
        "# Scikit-Learn ≥0.20 is required\n",
        "import sklearn\n",
        "assert sklearn.__version__ >= \"0.20\"\n",
        "\n",
        "# Common imports\n",
        "import numpy as np\n",
        "\n",
        "import os\n",
        "import tarfile\n",
        "import urllib.request\n",
        "\n",
        "import pandas as pd\n",
        "\n",
        "# To plot pretty figures\n",
        "%matplotlib inline\n",
        "import matplotlib as mpl\n",
        "import matplotlib.pyplot as plt\n",
        "\n",
        "from sklearn.pipeline import Pipeline\n",
        "from sklearn.impute import SimpleImputer\n",
        "from sklearn.preprocessing import StandardScaler\n",
        "\n",
        "from sklearn.linear_model import SGDRegressor\n",
        "from sklearn.model_selection import cross_val_predict\n",
        "from sklearn.model_selection import cross_val_score\n",
        "from sklearn.metrics import confusion_matrix\n",
        "from sklearn.metrics import mean_squared_error\n"
      ]
    },
    {
      "cell_type": "markdown",
      "metadata": {
        "id": "gSOoVQb-rruH"
      },
      "source": [
        "# Get the Data\n",
        "   \n",
        "   But first, few constant and f()s"
      ]
    },
    {
      "cell_type": "code",
      "execution_count": null,
      "metadata": {
        "id": "o5HNqESprruI"
      },
      "outputs": [],
      "source": [
        "# Where to save the figures\n",
        "PROJECT_ROOT_DIR = \".\"\n",
        "CHAPTER_ID = \"end_to_end_project\"\n",
        "IMAGES_PATH = os.path.join(PROJECT_ROOT_DIR, \"images\", CHAPTER_ID)\n",
        "os.makedirs(IMAGES_PATH, exist_ok=True)\n",
        "\n",
        "def save_fig(fig_id, tight_layout=True, fig_extension=\"png\", resolution=300):\n",
        "    path = os.path.join(IMAGES_PATH, fig_id + \".\" + fig_extension)\n",
        "    print(\"Saving figure\", fig_id)\n",
        "    if tight_layout:\n",
        "        plt.tight_layout()\n",
        "    plt.savefig(path, format=fig_extension, dpi=resolution)"
      ]
    },
    {
      "cell_type": "markdown",
      "metadata": {
        "id": "8m7q9d4FrruI"
      },
      "source": [
        "## Download the Data"
      ]
    },
    {
      "cell_type": "code",
      "execution_count": null,
      "metadata": {
        "id": "9X4hrD_0rruJ"
      },
      "outputs": [],
      "source": [
        "DOWNLOAD_ROOT = \"https://raw.githubusercontent.com/ageron/handson-ml2/master/\"\n",
        "HOUSING_PATH = os.path.join(\"datasets\", \"housing\")\n",
        "HOUSING_URL = DOWNLOAD_ROOT + \"datasets/housing/housing.tgz\"\n",
        "\n",
        "def fetch_housing_data(housing_url=HOUSING_URL, housing_path=HOUSING_PATH):\n",
        "    if not os.path.isdir(housing_path):\n",
        "        os.makedirs(housing_path)\n",
        "    tgz_path = os.path.join(housing_path, \"housing.tgz\")\n",
        "    urllib.request.urlretrieve(housing_url, tgz_path)\n",
        "    housing_tgz = tarfile.open(tgz_path)\n",
        "    housing_tgz.extractall(path=housing_path)\n",
        "    housing_tgz.close()"
      ]
    },
    {
      "cell_type": "code",
      "execution_count": null,
      "metadata": {
        "id": "gVeQCrwPrruK"
      },
      "outputs": [],
      "source": [
        "fetch_housing_data()"
      ]
    },
    {
      "cell_type": "code",
      "execution_count": null,
      "metadata": {
        "id": "46PSSllprruK"
      },
      "outputs": [],
      "source": [
        "def load_housing_data(housing_path=HOUSING_PATH):\n",
        "    csv_path = os.path.join(housing_path, \"housing.csv\")\n",
        "    return pd.read_csv(csv_path)"
      ]
    },
    {
      "cell_type": "code",
      "execution_count": null,
      "metadata": {
        "id": "G7Xc6SUVrruK"
      },
      "outputs": [],
      "source": [
        "housing = load_housing_data()\n",
        "housing.head()"
      ]
    },
    {
      "cell_type": "markdown",
      "metadata": {
        "id": "77gnbrQorruL"
      },
      "source": [
        "## Create a Test Set"
      ]
    },
    {
      "cell_type": "code",
      "execution_count": null,
      "metadata": {
        "id": "Cdc0Y8tOrruL"
      },
      "outputs": [],
      "source": [
        "# to make this notebook's output identical at every run\n",
        "np.random.seed(42)"
      ]
    },
    {
      "cell_type": "code",
      "execution_count": null,
      "metadata": {
        "id": "1IO0bSVUrruL"
      },
      "outputs": [],
      "source": [
        "import numpy as np\n",
        "\n",
        "# For illustration only. Sklearn has train_test_split()\n",
        "def split_train_test(data, test_ratio):\n",
        "    shuffled_indices = np.random.permutation(len(data))\n",
        "    test_set_size = int(len(data) * test_ratio)\n",
        "    test_indices = shuffled_indices[:test_set_size]\n",
        "    train_indices = shuffled_indices[test_set_size:]\n",
        "    return data.iloc[train_indices], data.iloc[test_indices]"
      ]
    },
    {
      "cell_type": "code",
      "execution_count": null,
      "metadata": {
        "id": "lvnwsjtmrruM"
      },
      "outputs": [],
      "source": [
        "train_set, test_set = split_train_test(housing, 0.2)\n",
        "len(train_set)"
      ]
    },
    {
      "cell_type": "code",
      "execution_count": null,
      "metadata": {
        "id": "KK-1FCQBrruM"
      },
      "outputs": [],
      "source": [
        "len(test_set)"
      ]
    },
    {
      "cell_type": "markdown",
      "metadata": {
        "id": "v4OXSJNzrruM"
      },
      "source": [
        "# Discover and Visualize the Data to Gain Insights"
      ]
    },
    {
      "cell_type": "markdown",
      "metadata": {
        "id": "cNY5CzTOrruM"
      },
      "source": [
        "## Lot's of graphs and geographical displays ... will skip for this lab"
      ]
    },
    {
      "cell_type": "markdown",
      "metadata": {
        "id": "AUSouqptrruN"
      },
      "source": [
        "## Looking for Correlations ... will skip for this lab"
      ]
    },
    {
      "cell_type": "markdown",
      "metadata": {
        "id": "rd4TBjCDrruN"
      },
      "source": [
        "## Experimenting with Attribute Combinations ... will skip for this lab"
      ]
    },
    {
      "cell_type": "markdown",
      "metadata": {
        "id": "2PEwztYdrruN"
      },
      "source": [
        "# Prepare the Data for Machine Learning Algorithms"
      ]
    },
    {
      "cell_type": "markdown",
      "metadata": {
        "id": "Q7GWob-8rruN"
      },
      "source": [
        "## Data Cleaning ... minimal"
      ]
    },
    {
      "cell_type": "code",
      "execution_count": null,
      "metadata": {
        "id": "iA6-PFnyrruN"
      },
      "outputs": [],
      "source": [
        "housing_cols = ['housing_median_age', 'total_rooms', 'population', 'median_income']\n",
        "housing_num = housing[housing_cols].fillna(housing[housing_cols].median())\n",
        "housing_labels = housing['median_house_value']"
      ]
    },
    {
      "cell_type": "markdown",
      "metadata": {
        "id": "xqXLwnJNrruO"
      },
      "source": [
        "## Transformation Pipelines"
      ]
    },
    {
      "cell_type": "markdown",
      "metadata": {
        "id": "vS4_ddvWrruO"
      },
      "source": [
        "Now let's build a pipeline for preprocessing the numerical attributes:"
      ]
    },
    {
      "cell_type": "code",
      "execution_count": null,
      "metadata": {
        "id": "PglE7oikrruO"
      },
      "outputs": [],
      "source": [
        "num_pipeline = Pipeline([\n",
        "        ('imputer', SimpleImputer(strategy=\"median\")),\n",
        "        ('std_scaler', StandardScaler()),\n",
        "    ])\n",
        "\n",
        "housing_num_tr = num_pipeline.fit_transform(housing_num)"
      ]
    },
    {
      "cell_type": "code",
      "execution_count": null,
      "metadata": {
        "id": "dB0xZez1rruO"
      },
      "outputs": [],
      "source": [
        "housing_num_tr"
      ]
    },
    {
      "cell_type": "markdown",
      "metadata": {
        "id": "L00HIMd4rruO"
      },
      "source": [
        "# Select and Train a Model"
      ]
    },
    {
      "cell_type": "markdown",
      "metadata": {
        "id": "io13lupKrruO"
      },
      "source": [
        "## Easy way : Training and Evaluating on the Training Set"
      ]
    },
    {
      "cell_type": "code",
      "execution_count": null,
      "metadata": {
        "id": "5Hx1yB2HrruP"
      },
      "outputs": [],
      "source": [
        "sgd_reg = SGDRegressor(max_iter=10000, eta0=1e-3, tol=1e-3, random_state=42)\n",
        "sgd_reg.fit(housing_num_tr, housing_labels)"
      ]
    },
    {
      "cell_type": "code",
      "execution_count": null,
      "metadata": {
        "id": "0M0aiGCHrruP"
      },
      "outputs": [],
      "source": [
        "housing_predictions = sgd_reg.predict(housing_num_tr)\n",
        "sgd_mse = mean_squared_error(housing_labels, housing_predictions)\n",
        "sgd_rmse = np.sqrt(sgd_mse)\n",
        "sgd_rmse\n"
      ]
    },
    {
      "cell_type": "code",
      "execution_count": null,
      "metadata": {
        "id": "M3uF8bwerruP"
      },
      "outputs": [],
      "source": [
        "print(\" theta values from SGD\",sgd_reg.coef_)\n",
        "print(\" y intercept \", sgd_reg.intercept_)"
      ]
    },
    {
      "cell_type": "code",
      "execution_count": null,
      "metadata": {
        "id": "_hGh_PgErruP"
      },
      "outputs": [],
      "source": [
        "from sklearn.linear_model import LinearRegression\n",
        "\n",
        "lin_reg = LinearRegression()\n",
        "lin_reg.fit(housing_num_tr, housing_labels)"
      ]
    },
    {
      "cell_type": "code",
      "execution_count": null,
      "metadata": {
        "id": "4e72YkfvrruP"
      },
      "outputs": [],
      "source": [
        "from sklearn.metrics import mean_squared_error\n",
        "\n",
        "housing_predictions = lin_reg.predict(housing_num_tr)\n",
        "lin_mse = mean_squared_error(housing_labels, housing_predictions)\n",
        "lin_rmse = np.sqrt(lin_mse)\n",
        "lin_rmse"
      ]
    },
    {
      "cell_type": "code",
      "execution_count": null,
      "metadata": {
        "id": "OYu7GuBXrruP"
      },
      "outputs": [],
      "source": [
        "print(\" theta values from Linear regression\",sgd_reg.coef_)\n",
        "print(\" y intercept \", sgd_reg.intercept_)"
      ]
    },
    {
      "cell_type": "markdown",
      "metadata": {
        "id": "t_9otfKXrruP"
      },
      "source": [
        "## Manual SGD : Training and Evaluating on the Training Set"
      ]
    },
    {
      "cell_type": "markdown",
      "metadata": {
        "id": "8HehApnwrruQ"
      },
      "source": [
        "Sci-kit learn SGD and linear regression add a term for the y-intercept automatically, but we have to do it ourselves for the manual solution"
      ]
    },
    {
      "cell_type": "code",
      "execution_count": null,
      "metadata": {
        "id": "uU7DhrUyrruQ"
      },
      "outputs": [],
      "source": [
        "housing_num_tr_b = np.c_[np.ones((housing_num_tr.shape[0], 1)), housing_num_tr] # add x0 = 1 to each instance"
      ]
    },
    {
      "cell_type": "markdown",
      "metadata": {
        "id": "-mlyGGoRrruQ"
      },
      "source": [
        "### Exercise : Cost Function\n",
        "\n",
        "Implement the Mean squared error cost function for a linear regression (Pg 114 of the book)"
      ]
    },
    {
      "cell_type": "code",
      "execution_count": null,
      "metadata": {
        "id": "jsBO_MFMrruQ"
      },
      "outputs": [],
      "source": [
        "# Define computeCost function\n",
        "def computeCost(X, y, theta):\n",
        " "
      ]
    },
    {
      "cell_type": "markdown",
      "metadata": {
        "id": "DoWQq11srruQ"
      },
      "source": [
        "We test out our cost function for specific theta values"
      ]
    },
    {
      "cell_type": "code",
      "execution_count": null,
      "metadata": {
        "id": "kKubGIXLrruQ"
      },
      "outputs": [],
      "source": [
        "# Calculate computeCost with theta equal to zeros\n",
        "theta = np.zeros(housing_num_tr_b.shape[1])\n",
        "\n",
        "J1 = computeCost(housing_num_tr_b, housing_labels, theta)\n",
        "print(\"With theta = %s, \\nCost computed = %.2f \" % (theta, J1))\n",
        "\n",
        "#Answer Should be :\n",
        "#    With theta = [0. 0. 0. 0. 0.], \n",
        "#    Cost computed = 28052415994.94 "
      ]
    },
    {
      "cell_type": "markdown",
      "metadata": {
        "id": "Yg50r3MQrruQ"
      },
      "source": [
        "### Exercise : Batch Gradient Descent \n",
        "\n",
        "Implement the batch gradient descent algorithm, save the cost at every iteration and return it along with \n",
        "the improved theta value"
      ]
    },
    {
      "cell_type": "code",
      "execution_count": null,
      "metadata": {
        "id": "qi8Y7pf_rruQ"
      },
      "outputs": [],
      "source": [
        "#  Define the gradient descent algorithm and return cost history and theta\n",
        "\n",
        "def gradientDescent(X, y, theta, iterations, eta):\n",
        "    J_hist = np.zeros([iterations])\n",
        "\n",
        "    \n",
        "    \n",
        "    return theta, J_hist"
      ]
    },
    {
      "cell_type": "markdown",
      "metadata": {
        "id": "rxdC8iKwrruR"
      },
      "source": [
        "Now run the batch gradient descent algorithm and check against my results"
      ]
    },
    {
      "cell_type": "code",
      "execution_count": null,
      "metadata": {
        "id": "5Ro-8SF2rruR"
      },
      "outputs": [],
      "source": [
        "theta, J_hist = gradientDescent(housing_num_tr_b, housing_labels, theta, iterations=5000,eta=1e-3)\n",
        "J1 = computeCost(housing_num_tr_b, housing_labels, theta)\n",
        "J1\n",
        "\n",
        "# With theta initialized to zero, I get 3221295137.061254 for the cost "
      ]
    },
    {
      "cell_type": "code",
      "execution_count": null,
      "metadata": {
        "id": "k0DB1q4wrruR"
      },
      "outputs": [],
      "source": [
        "print(\" theta values from Manual BGD\",theta[1:4])\n",
        "print(\" y intercept \", theta[0])"
      ]
    },
    {
      "cell_type": "code",
      "execution_count": null,
      "metadata": {
        "id": "pVjiCdjTrruR"
      },
      "outputs": [],
      "source": [
        "# Lets look at how the cost changes through iterations\n",
        "plt.title(\"J_history Plot\")\n",
        "plt.plot(J_hist)"
      ]
    },
    {
      "cell_type": "markdown",
      "metadata": {
        "id": "cGO7Gol0rruR"
      },
      "source": [
        "### Exercise : Compute the root mean squared error \n",
        "\n",
        "Compare results to linear regression and Stochastic gradient descent. Why do you think the results are not quite as good as the scikit learn results ? (May want to look \n",
        "\n",
        "I get 80265.74782634563 with theta initialized to zero, iterations=5000,eta=1e-3"
      ]
    },
    {
      "cell_type": "code",
      "execution_count": null,
      "metadata": {
        "id": "e762c2JDrruR"
      },
      "outputs": [],
      "source": [
        ""
      ]
    },
    {
      "cell_type": "markdown",
      "metadata": {
        "id": "3hvyrkJqrruR"
      },
      "source": [
        "### Exercise : Hyperparameters\n",
        "\n",
        "Change some of the hyperparameters (iterations or eta) to get an improved root mean squared (I was able to match scki-kit learn results of 80211) "
      ]
    },
    {
      "cell_type": "code",
      "execution_count": null,
      "metadata": {
        "id": "4zneJJtyrruR"
      },
      "outputs": [],
      "source": [
        ""
      ]
    },
    {
      "cell_type": "markdown",
      "metadata": {
        "id": "GUiygcsFrruR"
      },
      "source": [
        "### Graduate students, Extra credit \n",
        "\n",
        "Implement Stochastic gradient descent and compare the performance to batch gradient descent. Explain the results"
      ]
    },
    {
      "cell_type": "code",
      "execution_count": null,
      "metadata": {
        "id": "mbETQrC7rruS"
      },
      "outputs": [],
      "source": [
        ""
      ]
    }
  ],
  "metadata": {
    "kernelspec": {
      "display_name": "Python 3 (ipykernel)",
      "language": "python",
      "name": "python3"
    },
    "language_info": {
      "codemirror_mode": {
        "name": "ipython",
        "version": 3
      },
      "file_extension": ".py",
      "mimetype": "text/x-python",
      "name": "python",
      "nbconvert_exporter": "python",
      "pygments_lexer": "ipython3",
      "version": "3.9.7"
    },
    "nav_menu": {
      "height": "279px",
      "width": "309px"
    },
    "toc": {
      "nav_menu": {},
      "number_sections": true,
      "sideBar": true,
      "skip_h1_title": false,
      "toc_cell": false,
      "toc_position": {},
      "toc_section_display": "block",
      "toc_window_display": false
    },
    "colab": {
      "name": "GD_lab-V1.ipynb",
      "provenance": [],
      "include_colab_link": true
    }
  },
  "nbformat": 4,
  "nbformat_minor": 0
}