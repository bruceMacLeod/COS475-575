{
 "cells": [
  {
   "cell_type": "markdown",
   "metadata": {},
   "source": [
    "## County Health Rankings\n",
    "\n",
    "This data set is intended to demonstrate how various factors affect the health of counties in the United States, as well as highlight the dramatic range in health from county to county. These factors include access to affordable housing, access to well-paying jobs, education opportunities, and many others. This data is provided as a resource to help identify and address injustices and inequities in the health of counties in the United States.\n",
    "\n",
    "The data set includes statistics on premature death rates, physical health, mental health, low birthweight, adult smoking, and countless others. The data is primarily numeric.\n",
    "\n",
    "Documentation can be found at : https://www.countyhealthrankings.org/sites/default/files/media/document/DataDictionary_2021.pdf\n"
   ]
  },
  {
   "cell_type": "code",
   "execution_count": null,
   "metadata": {},
   "outputs": [],
   "source": [
    "import pandas as pd\n",
    "import requests\n",
    "import io\n",
    "\n",
    "from sklearn.impute import SimpleImputer \n",
    "from sklearn.pipeline import Pipeline\n",
    "from sklearn.preprocessing import StandardScaler\n",
    "from sklearn.compose import ColumnTransformer \n",
    "from pylab import cm\n",
    "\n",
    "import matplotlib.pyplot as plt\n",
    "%matplotlib inline"
   ]
  },
  {
   "cell_type": "markdown",
   "metadata": {},
   "source": [
    "#### Read in the data "
   ]
  },
  {
   "cell_type": "code",
   "execution_count": null,
   "metadata": {},
   "outputs": [],
   "source": [
    "url = 'http://www.countyhealthrankings.org/sites/default/files/media/document/analytic_data2021.csv'\n",
    "response = requests.get(url)\n",
    "\n",
    "file_object = io.StringIO(response.content.decode('utf-8'))\n",
    "df = pd.read_csv(file_object,skiprows=[0])"
   ]
  },
  {
   "cell_type": "code",
   "execution_count": null,
   "metadata": {},
   "outputs": [],
   "source": [
    "df.head()"
   ]
  },
  {
   "cell_type": "markdown",
   "metadata": {},
   "source": [
    "There are USA aggregate data and state aggregate level data, let's focus only on counties"
   ]
  },
  {
   "cell_type": "code",
   "execution_count": null,
   "metadata": {},
   "outputs": [],
   "source": [
    "df = df[df['countycode']!=0]"
   ]
  },
  {
   "cell_type": "markdown",
   "metadata": {},
   "source": [
    "There are 16 Maine counties that we will be taking a close look at later on "
   ]
  },
  {
   "cell_type": "code",
   "execution_count": null,
   "metadata": {},
   "outputs": [],
   "source": [
    "maine_fipscode = df[(df['state']=='ME')].fipscode\n",
    "maine_county_labels = [' Andr',' Aroo',' Cumb', ' Fran', ' Hanc',' Kenn', ' Knox', ' Linc', ' Oxfo', \n",
    "                       ' Peno', ' Pisc', ' Saga', ' Some', ' Waldo', ' Wash', ' York']"
   ]
  },
  {
   "cell_type": "markdown",
   "metadata": {},
   "source": [
    "There are a lot of columns we do need. In particular the numerator, denominator, confidence interval, ... columns for forming the raw_values are included. We get rid of them "
   ]
  },
  {
   "cell_type": "code",
   "execution_count": null,
   "metadata": {},
   "outputs": [],
   "source": [
    "# select all the columns from CHR with raw values\n",
    "## these columns contain the major health-related variables\n",
    "all_cols = df.columns\n",
    "col_names = [i for i in all_cols if 'rawvalue' in i]\n",
    "print ('Number of CHR variables: ',len(col_names))\n",
    "## We include the fipscode column because we want to get only the maine counties out later on\n",
    "col_names.insert(0,\"fipscode\") \n",
    "df_sub = df[col_names]\n",
    "df_sub = df_sub.set_index('fipscode')\n",
    "df_sub.head()"
   ]
  },
  {
   "cell_type": "markdown",
   "metadata": {},
   "source": [
    "We get rid of the columns that do not have at least 70% of the rows with values"
   ]
  },
  {
   "cell_type": "code",
   "execution_count": null,
   "metadata": {},
   "outputs": [],
   "source": [
    "#count and find the percentage of null values and concatenat the results\n",
    "missing = pd.concat([df_sub.isnull().sum(), 100*df_sub.isnull().mean()], axis=1)\n",
    "missing.columns = ['count', 'percentage']\n",
    "smissing = missing.sort_values(by='count', ascending=False)\n",
    "print(smissing)\n",
    "good_cols = smissing[smissing['percentage'] < 30].index\n",
    "good_cols = good_cols.sort_values()\n",
    "df_sub2 = df_sub[good_cols]\n",
    "df_sub2.head()"
   ]
  },
  {
   "cell_type": "markdown",
   "metadata": {},
   "source": [
    "I do a demonstration plot that should be helpful for the Assignment 3 work "
   ]
  },
  {
   "cell_type": "code",
   "execution_count": null,
   "metadata": {},
   "outputs": [],
   "source": [
    "fig, ax = plt.subplots(figsize=(8,8))\n",
    "\n",
    "# a boolean series gets created with true values for maine counties \n",
    "maine_counties = df_sub2.index.isin(maine_fipscode)\n",
    "\n",
    "x_axis = df_sub2[maine_counties]['v036_rawvalue']\n",
    "y_axis = df_sub2[maine_counties]['v001_rawvalue']\n",
    "ax.scatter(x_axis, y_axis)\n",
    "\n",
    "ax.set_xlabel('Poor Physical health days', fontsize=18)\n",
    "ax.set_ylabel('Premature Death', fontsize=16)\n",
    "\n",
    "for i, label in enumerate(maine_county_labels):\n",
    "    plt.annotate(label, (x_axis.iloc[i], y_axis.iloc[i]))\n",
    "    \n",
    "plt.show()"
   ]
  },
  {
   "cell_type": "code",
   "execution_count": null,
   "metadata": {},
   "outputs": [],
   "source": []
  }
 ],
 "metadata": {
  "kernelspec": {
   "display_name": "Python 3",
   "language": "python",
   "name": "python3"
  },
  "language_info": {
   "codemirror_mode": {
    "name": "ipython",
    "version": 3
   },
   "file_extension": ".py",
   "mimetype": "text/x-python",
   "name": "python",
   "nbconvert_exporter": "python",
   "pygments_lexer": "ipython3",
   "version": "3.8.3"
  }
 },
 "nbformat": 4,
 "nbformat_minor": 4
}
